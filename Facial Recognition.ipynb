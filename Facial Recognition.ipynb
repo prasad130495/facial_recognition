{
 "cells": [
  {
   "cell_type": "code",
   "execution_count": 4,
   "metadata": {},
   "outputs": [],
   "source": [
    "# libraries required\n",
    "import os\n",
    "import face_recognition\n",
    "# need to pip install face_recognition,cmake first"
   ]
  },
  {
   "cell_type": "code",
   "execution_count": 6,
   "metadata": {},
   "outputs": [],
   "source": [
    "# image database or corpus\n",
    "images = os.listdir('images')"
   ]
  },
  {
   "cell_type": "code",
   "execution_count": 8,
   "metadata": {},
   "outputs": [],
   "source": [
    "#load image that you want to recognize here\n",
    "image_to_recognize = face_recognition.load_image_file('image_to_check.jpg')"
   ]
  },
  {
   "cell_type": "code",
   "execution_count": 15,
   "metadata": {},
   "outputs": [],
   "source": [
    "# to change the image into a feature vector\n",
    "encoded_image_to_recognize = face_recognition.face_encodings(image_to_recognize)[0]"
   ]
  },
  {
   "cell_type": "code",
   "execution_count": 20,
   "metadata": {},
   "outputs": [
    {
     "name": "stdout",
     "output_type": "stream",
     "text": [
      "Not Matched: brad_pitt.jpg\n",
      "Not Matched: leonardo_di_caprio.jpg\n",
      "Not Matched: robert_de_niro.jpg\n",
      "Matched: robert_downey_jr.jpg\n",
      "Not Matched: tom_hanks.jpg\n",
      "Not Matched: will_smith.jpg\n"
     ]
    }
   ],
   "source": [
    "for image in images:\n",
    "    #load and encode the image\n",
    "    current_image = face_recognition.load_image_file(\"images/\" + image)\n",
    "    encoded_current_image = face_recognition.face_encodings(current_image)[0]\n",
    "    \n",
    "    #use face_recognition to comapre\n",
    "    comparison = face_recognition.compare_faces([encoded_image_to_recognize],encoded_current_image)\n",
    "    \n",
    "    if comparison[0] ==True:\n",
    "        print(\"Matched: \" + image)\n",
    "            \n",
    "    else:\n",
    "        print(\"Not Matched: \" + image)\n",
    "    \n",
    "    \n",
    "    "
   ]
  },
  {
   "cell_type": "code",
   "execution_count": 19,
   "metadata": {},
   "outputs": [
    {
     "name": "stdout",
     "output_type": "stream",
     "text": [
      "Matched: brad_pitt.jpg\n",
      "Matched: leonardo_di_caprio.jpg\n",
      "Matched: robert_de_niro.jpg\n",
      "Matched: robert_downey_jr.jpg\n",
      "Matched: tom_hanks.jpg\n",
      "Matched: will_smith.jpg\n"
     ]
    }
   ],
   "source": []
  },
  {
   "cell_type": "code",
   "execution_count": null,
   "metadata": {},
   "outputs": [],
   "source": []
  }
 ],
 "metadata": {
  "kernelspec": {
   "display_name": "Python 3",
   "language": "python",
   "name": "python3"
  },
  "language_info": {
   "codemirror_mode": {
    "name": "ipython",
    "version": 3
   },
   "file_extension": ".py",
   "mimetype": "text/x-python",
   "name": "python",
   "nbconvert_exporter": "python",
   "pygments_lexer": "ipython3",
   "version": "3.7.3"
  }
 },
 "nbformat": 4,
 "nbformat_minor": 2
}
